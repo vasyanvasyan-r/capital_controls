{
 "cells": [
  {
   "cell_type": "code",
   "execution_count": 2,
   "id": "db867be3",
   "metadata": {},
   "outputs": [],
   "source": [
    "import pandas as pd\n",
    "import numpy as np\n",
    "import functools as fc"
   ]
  },
  {
   "cell_type": "code",
   "execution_count": 1,
   "id": "4fedddeb",
   "metadata": {},
   "outputs": [],
   "source": [
    "\n",
    "def full_na_or_zero(x):\n",
    "    miss = x.loc[[i or j for i, j in zip(x.isna(), x == 0)]].index.to_list()\n",
    "    i_diff = [miss[i+1] - miss[i] for i in range(len(miss)-1)]\n",
    "    \n",
    "    if len(miss) == 0:\n",
    "        print('no na')\n",
    "        \n",
    "    else:\n",
    "        \n",
    "        change = [miss[0] - 1]\n",
    "        rep = change.copy()\n",
    "        for i in range(len(miss) - 1):\n",
    "            if i_diff[i] == 1:\n",
    "                change = change + rep\n",
    "            else:\n",
    "                change = change + [miss[i+1]-1]\n",
    "                rep = [miss[i+1]-1]\n",
    "        x.iloc[miss] = x.iloc[change].copy()\n",
    "    return x"
   ]
  },
  {
   "cell_type": "code",
   "execution_count": 3,
   "id": "b2202352",
   "metadata": {},
   "outputs": [
    {
     "name": "stdout",
     "output_type": "stream",
     "text": [
      "ARGENTINA\n",
      "no na\n",
      "PAKISTAN\n",
      "no na\n",
      "RUSSIA\n",
      "no na\n",
      "BRAZIL\n",
      "no na\n",
      "CHILE\n",
      "no na\n",
      "CHINA\n",
      "no na\n",
      "COLOMBIA\n",
      "no na\n",
      "EGYPT\n",
      "no na\n",
      "INDIA\n",
      "no na\n",
      "INDIA DOMESTIC\n",
      "no na\n",
      "INDONESIA\n",
      "no na\n",
      "MALAYSIA\n",
      "no na\n",
      "MEXICO\n",
      "no na\n",
      "PERU\n",
      "no na\n",
      "PHILIPPINES\n",
      "no na\n",
      "SOUTH AFRICA\n",
      "no na\n",
      "THAILAND\n",
      "no na\n",
      "TURKEY\n",
      "no na\n",
      "DGS10\n",
      "VIX\n",
      "SP500\n",
      "EM\n",
      "DXY\n"
     ]
    }
   ],
   "source": [
    "df1 = pd.read_excel('arg-pak-rus.xls').set_axis(['date', 'ARGENTINA', 'PAKISTAN', 'RUSSIA'], axis = 1)\n",
    "df1.loc[:, 'date'] = pd.to_datetime(df1.date)\n",
    "\n",
    "df2 = pd.read_excel('brazil-chille-china-colombia-egypt-india.xls') \\\n",
    "                .set_axis(['date', 'BRAZIL', 'CHILE', 'CHINA', 'COLOMBIA', 'EGYPT', 'INDIA'], axis = 1)\n",
    "df2.loc[:, 'date'] = pd.to_datetime(df2.date)\n",
    "\n",
    "df3 = pd.read_excel('india(d)-indonesia-malaysia-mexico-peru-philippines.xls') \\\n",
    "                .set_axis(['date', 'INDIA DOMESTIC', 'INDONESIA', 'MALAYSIA', 'MEXICO', 'PERU', 'PHILIPPINES'], axis = 1)\n",
    "df3.loc[:, 'date'] = pd.to_datetime(df3.date)\n",
    "\n",
    "df4 = pd.read_excel('south africa-thai-turkey.xls') \\\n",
    "                .set_axis(['date', 'SOUTH AFRICA', 'THAILAND', 'TURKEY'], axis = 1)\n",
    "df4.loc[:, 'date'] = pd.to_datetime(df4.date)\n",
    "\n",
    "df5 = pd.read_excel('THREEFF10.xls').iloc[10:].set_axis(['date', 'DGS10'], axis = 1).reset_index(drop = True)\n",
    "df5.loc[:, 'date'] = pd.to_datetime(df5.date.apply(lambda x: x.date()))\n",
    "\n",
    "df6 = pd.read_excel('VIXCLS.xls').iloc[10:].set_axis(['date', 'VIX'], axis = 1).reset_index(drop = True)\n",
    "df6.loc[:, 'date'] = pd.to_datetime(df6.date.apply(lambda x: x.date()))\n",
    "\n",
    "df7 = pd.read_csv('S&P 500.csv').iloc[:, :2].set_axis(['date', 'SP500'], axis = 1)\n",
    "df7.loc[:, 'date'] = pd.to_datetime(df7.date, format = '%d.%m.%Y')\n",
    "\n",
    "df8 = pd.read_csv('MSCI Emerging Markets.csv').iloc[:, :2].set_axis(['date', 'EM'], axis = 1)\n",
    "df8.loc[:, 'date'] = pd.to_datetime(df8.date, format = '%m/%d/%Y')\n",
    "\n",
    "df9 = pd.read_excel('DTWEXBGS.xls').iloc[10:].set_axis(['date', 'DXY'], axis = 1).reset_index(drop = True)\n",
    "df9.loc[:, 'date'] = pd.to_datetime(df9.date.apply(lambda x: x.date()))\n",
    "\n",
    "\n",
    "dfs = [df1, df2, df3, df4, df5, df6, df7, df8, df9]\n",
    "df = fc.reduce(lambda left, right: pd.merge(left, right, on = 'date', how = 'left'), dfs)\n",
    "\n",
    "for i in df.columns[1:]:\n",
    "    print(i) ; exec(f'df.loc[:, \"{i}\"] = full_na_or_zero(df.loc[:, \"{i}\"].copy())')\n",
    "    exec(f'df.loc[:, \"{i}\"]= df.loc[:, \"{i}\"].apply(lambda x: x.replace(\",\", \"\") if type(x) == str else x)')\n",
    "df.to_csv('C:/Users/vasil/YandexDisk/D is not for Dragons/calculations/index-a.csv')"
   ]
  },
  {
   "cell_type": "code",
   "execution_count": 3,
   "id": "7546ca9d",
   "metadata": {},
   "outputs": [],
   "source": [
    "df1 = pd.read_excel('arg-pak-rus.xls').set_axis(['date', 'ARGENTINA', 'PAKISTAN', 'RUSSIA'], axis = 1)\n",
    "df1.loc[:, 'date'] = pd.to_datetime(df1.date)\n",
    "\n",
    "df2 = pd.read_excel('brazil-chille-china-colombia-egypt-india.xls') \\\n",
    "                .set_axis(['date', 'BRAZIL', 'CHILE', 'CHINA', 'COLOMBIA', 'EGYPT', 'INDIA'], axis = 1)\n",
    "df2.loc[:, 'date'] = pd.to_datetime(df2.date)\n",
    "\n",
    "df3 = pd.read_excel('india(d)-indonesia-malaysia-mexico-peru-philippines.xls') \\\n",
    "                .set_axis(['date', 'INDIA DOMESTIC', 'INDONESIA', 'MALAYSIA', 'MEXICO', 'PERU', 'PHILIPPINES'], axis = 1)\n",
    "df3.loc[:, 'date'] = pd.to_datetime(df3.date)\n",
    "\n",
    "df4 = pd.read_excel('south africa-thai-turkey.xls') \\\n",
    "                .set_axis(['date', 'SOUTH AFRICA', 'THAILAND', 'TURKEY'], axis = 1)\n",
    "df4.loc[:, 'date'] = pd.to_datetime(df4.date)\n",
    "\n",
    "df5 = pd.read_excel('THREEFF10.xls').iloc[10:].set_axis(['date', 'DGS10'], axis = 1).reset_index(drop = True)\n",
    "df5.loc[:, 'date'] = pd.to_datetime(df5.date.apply(lambda x: x.date()))\n",
    "\n",
    "df6 = pd.read_excel('VIXCLS.xls').iloc[10:].set_axis(['date', 'VIX'], axis = 1).reset_index(drop = True)\n",
    "df6.loc[:, 'date'] = pd.to_datetime(df6.date.apply(lambda x: x.date()))\n",
    "\n",
    "df7 = pd.read_csv('S&P 500.csv').iloc[:, :2].set_axis(['date', 'SP500'], axis = 1)\n",
    "df7.loc[:, 'date'] = pd.to_datetime(df7.date, format = '%d.%m.%Y')\n",
    "\n",
    "df8 = pd.read_csv('MSCI Emerging Markets.csv').iloc[:, :2].set_axis(['date', 'EM'], axis = 1)\n",
    "df8.loc[:, 'date'] = pd.to_datetime(df8.date, format = '%m/%d/%Y')\n",
    "\n",
    "df9 = pd.read_excel('DTWEXBGS.xls').iloc[10:].set_axis(['date', 'DXY'], axis = 1).reset_index(drop = True)\n",
    "df9.loc[:, 'date'] = pd.to_datetime(df9.date.apply(lambda x: x.date()))\n",
    "\n",
    "\n",
    "dfs = [df1, df2, df3, df4, df5, df6, df7, df8, df9]\n",
    "df = fc.reduce(lambda left, right: pd.merge(left, right, on = 'date', how = 'left'), dfs)"
   ]
  },
  {
   "cell_type": "code",
   "execution_count": 18,
   "id": "539c422c",
   "metadata": {},
   "outputs": [
    {
     "data": {
      "text/plain": [
       "array([[0.23959999999999582, 0.06059999999999999],\n",
       "       [-0.2412999999999954, 0.0517000000000003],\n",
       "       [0.07290000000000418, -0.01440000000000019],\n",
       "       ...,\n",
       "       [0.13389999999999702, 0.010600000000000165],\n",
       "       [-0.12109999999999843, 0.010099999999999998],\n",
       "       [-0.20139999999999247, 0.06099999999999994]], dtype=object)"
      ]
     },
     "execution_count": 18,
     "metadata": {},
     "output_type": "execute_result"
    }
   ],
   "source": [
    "(df.loc[1:, ['DXY', 'DGS10']].to_numpy() - df.loc[:df.shape[0]-2, ['DXY', 'DGS10']].to_numpy())"
   ]
  },
  {
   "cell_type": "code",
   "execution_count": 13,
   "id": "4efd8088",
   "metadata": {},
   "outputs": [
    {
     "data": {
      "text/plain": [
       "array([[92.6661, 6.3744],\n",
       "       [92.9057, 6.435],\n",
       "       [92.6644, 6.4867],\n",
       "       ...,\n",
       "       [115.1236, 3.3285],\n",
       "       [115.2575, 3.3391],\n",
       "       [115.1364, 3.3492]], dtype=object)"
      ]
     },
     "execution_count": 13,
     "metadata": {},
     "output_type": "execute_result"
    }
   ],
   "source": [
    "df.loc[:df.shape[0]-2, ['DXY', 'DGS10']].to_numpy()"
   ]
  }
 ],
 "metadata": {
  "kernelspec": {
   "display_name": "Python 3 (ipykernel)",
   "language": "python",
   "name": "python3"
  },
  "language_info": {
   "codemirror_mode": {
    "name": "ipython",
    "version": 3
   },
   "file_extension": ".py",
   "mimetype": "text/x-python",
   "name": "python",
   "nbconvert_exporter": "python",
   "pygments_lexer": "ipython3",
   "version": "3.9.13"
  }
 },
 "nbformat": 4,
 "nbformat_minor": 5
}
