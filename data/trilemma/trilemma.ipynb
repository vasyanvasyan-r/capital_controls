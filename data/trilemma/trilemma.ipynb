{
 "cells": [
  {
   "cell_type": "code",
   "execution_count": 1,
   "id": "745aaa11",
   "metadata": {},
   "outputs": [],
   "source": [
    "import pandas as pd\n",
    "import numpy as np"
   ]
  },
  {
   "cell_type": "code",
   "execution_count": 2,
   "id": "c74d96e6",
   "metadata": {},
   "outputs": [],
   "source": [
    "\n",
    "data = pd.read_excel('trilemma.xlsx').dropna().set_axis(['id', 'year', 'ers', 'mi', 'fo', 'name'], axis = 1) \\\n",
    "        .query('year in [2010, 2011, 2012, 2013, 2014, 2015, 2016, 2017, 2018, 2019]', engine = 'python') \\\n",
    "        .groupby(['name']).agg({'ers':'mean', 'mi':'mean', 'fo':'mean'}).reset_index()"
   ]
  },
  {
   "cell_type": "code",
   "execution_count": 3,
   "id": "9e584e33",
   "metadata": {},
   "outputs": [
    {
     "data": {
      "text/plain": [
       "'Armenia, Armenia, Australia, Botswana, Cambodia, Canada, Gambia, Georgia, Germany, Guatemala, Israel, Japan, Korea, Rep., Liberia, New Zealand, Romania, Singapore, Switzerland, Uganda, Uruguay, Zambia'"
      ]
     },
     "execution_count": 3,
     "metadata": {},
     "output_type": "execute_result"
    }
   ],
   "source": [
    "mi = data.query('fo > 0.80 and ers < mi').name.to_list()\n",
    "x = mi[0]\n",
    "for i in mi:\n",
    "    i = i.replace(', The', '')\n",
    "    x = x + ', ' + i\n",
    "x"
   ]
  },
  {
   "cell_type": "code",
   "execution_count": 4,
   "id": "c3922abd",
   "metadata": {},
   "outputs": [
    {
     "data": {
      "text/plain": [
       "'Austria, Austria, Bahrain, Belgium, Bulgaria, Costa Rica, Cyprus, Czech Republic, Denmark, Dominican Republic, Estonia, Finland, France, Greece, Guyana, Haiti, Hong Kong, China, Hungary, Ireland, Italy, Jordan, Latvia, Lithuania, Malta, Micronesia, Fed. Sts., Netherlands, Nicaragua, Norway, Oman, Panama, Peru, Portugal, Qatar, Seychelles, Spain, Sweden, Trinidad and Tobago, United Kingdom, Yemen'"
      ]
     },
     "execution_count": 4,
     "metadata": {},
     "output_type": "execute_result"
    }
   ],
   "source": [
    "mi = data.query('fo > 0.80 and ers > mi').name.to_list()\n",
    "x = mi[0]\n",
    "for i in mi:\n",
    "    i = i.replace(', Rep.', '')\n",
    "    x = x + ', ' + i\n",
    "x"
   ]
  },
  {
   "cell_type": "code",
   "execution_count": 8,
   "id": "f91441fd",
   "metadata": {
    "scrolled": true
   },
   "outputs": [
    {
     "data": {
      "text/plain": [
       "\"Aruba, Aruba, Bahamas, The, Bangladesh, Barbados, Belarus, Belize, Benin, Bhutan, Brazil, Burkina Faso, Burundi, C?e d'Ivoire, Cameroon, Central African Republic, Chad, China, Comoros, Congo, Dem. Rep., Congo, Equatorial Guinea, Gabon, Grenada, Guinea, Honduras, India, Kazakhstan, Lao PDR, Lesotho, Mali, Mauritania, Moldova, Morocco, Mozambique, Namibia, Nepal, Niger, Nigeria, Samoa, Senegal, Sierra Leone, Solomon Islands, St. Kitts and Nevis, St. Vincent and the Grenadines, Suriname, Swaziland, Tajikistan, Tanzania, Togo, Tunisia, Ukraine, Uzbekistan, Venezuela, RB\""
      ]
     },
     "execution_count": 8,
     "metadata": {},
     "output_type": "execute_result"
    }
   ],
   "source": [
    "mi = data.query('fo < 0.3 and (ers > 0.5 or mi > 0.5)').name.to_list()\n",
    "x = mi[0]\n",
    "for i in mi:\n",
    "    i = i.replace(', Rep.', '')\n",
    "    x = x + ', ' + i\n",
    "x"
   ]
  },
  {
   "cell_type": "code",
   "execution_count": 13,
   "id": "87207220",
   "metadata": {},
   "outputs": [
    {
     "data": {
      "text/plain": [
       "'Algeria, Algeria, Angola, Argentina, Colombia, Egypt, Arab Rep., Fiji, Ghana, Guinea-Bissau, Iran, Islamic Rep., Libya, Madagascar, Malawi, Malaysia, Myanmar, Pakistan, Philippines, South Africa, Sri Lanka, Thailand, Turkey'"
      ]
     },
     "execution_count": 13,
     "metadata": {},
     "output_type": "execute_result"
    }
   ],
   "source": [
    "mi = data.query('fo < 0.5 and ers < 0.5 and mi < 0.5').name.to_list()\n",
    "x = mi[0]\n",
    "for i in mi:\n",
    "    i = i.replace(', Rep.', '')\n",
    "    x = x + ', ' + i\n",
    "x"
   ]
  },
  {
   "cell_type": "code",
   "execution_count": 19,
   "id": "ccd70123",
   "metadata": {},
   "outputs": [
    {
     "data": {
      "text/plain": [
       "0.7300613496932515"
      ]
     },
     "execution_count": 19,
     "metadata": {},
     "output_type": "execute_result"
    }
   ],
   "source": [
    "data.query('fo > 0.8 or fo < 0.2').shape[0]/data.shape[0]"
   ]
  },
  {
   "cell_type": "code",
   "execution_count": 8,
   "id": "4e0f13aa",
   "metadata": {},
   "outputs": [
    {
     "data": {
      "text/html": [
       "<div>\n",
       "<style scoped>\n",
       "    .dataframe tbody tr th:only-of-type {\n",
       "        vertical-align: middle;\n",
       "    }\n",
       "\n",
       "    .dataframe tbody tr th {\n",
       "        vertical-align: top;\n",
       "    }\n",
       "\n",
       "    .dataframe thead th {\n",
       "        text-align: right;\n",
       "    }\n",
       "</style>\n",
       "<table border=\"1\" class=\"dataframe\">\n",
       "  <thead>\n",
       "    <tr style=\"text-align: right;\">\n",
       "      <th></th>\n",
       "      <th>name</th>\n",
       "      <th>ers</th>\n",
       "      <th>mi</th>\n",
       "      <th>fo</th>\n",
       "    </tr>\n",
       "  </thead>\n",
       "  <tbody>\n",
       "    <tr>\n",
       "      <th>6</th>\n",
       "      <td>Australia</td>\n",
       "      <td>0.253953</td>\n",
       "      <td>0.465377</td>\n",
       "      <td>0.880064</td>\n",
       "    </tr>\n",
       "    <tr>\n",
       "      <th>156</th>\n",
       "      <td>United Kingdom</td>\n",
       "      <td>0.344569</td>\n",
       "      <td>0.262781</td>\n",
       "      <td>1.000000</td>\n",
       "    </tr>\n",
       "  </tbody>\n",
       "</table>\n",
       "</div>"
      ],
      "text/plain": [
       "               name       ers        mi        fo\n",
       "6         Australia  0.253953  0.465377  0.880064\n",
       "156  United Kingdom  0.344569  0.262781  1.000000"
      ]
     },
     "execution_count": 8,
     "metadata": {},
     "output_type": "execute_result"
    }
   ],
   "source": [
    "data.query('name == \"United Kingdom\" or name == \"Australia\"')"
   ]
  },
  {
   "cell_type": "code",
   "execution_count": null,
   "id": "56db1ed3",
   "metadata": {},
   "outputs": [],
   "source": []
  }
 ],
 "metadata": {
  "kernelspec": {
   "display_name": "Python 3 (ipykernel)",
   "language": "python",
   "name": "python3"
  },
  "language_info": {
   "codemirror_mode": {
    "name": "ipython",
    "version": 3
   },
   "file_extension": ".py",
   "mimetype": "text/x-python",
   "name": "python",
   "nbconvert_exporter": "python",
   "pygments_lexer": "ipython3",
   "version": "3.9.13"
  }
 },
 "nbformat": 4,
 "nbformat_minor": 5
}
